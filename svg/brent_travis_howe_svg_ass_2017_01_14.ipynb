{
 "cells": [
  {
   "cell_type": "code",
   "execution_count": 1,
   "metadata": {
    "collapsed": true
   },
   "outputs": [],
   "source": [
    "import data_clean #this file does the following preprocessing. I threw it all in a function so I could easily perform the same steps on the holdout_.csv data as the training data.\n",
    "import numpy as np\n",
    "import pandas as pd\n",
    "import matplotlib.pyplot as plt\n",
    "from sklearn.metrics import roc_auc_score\n",
    "from sklearn.grid_search import GridSearchCV\n",
    "from sklearn.metrics.scorer import make_scorer\n",
    "from sklearn.neighbors import KNeighborsClassifier\n",
    "from sklearn.ensemble import RandomForestClassifier\n",
    "from sklearn.preprocessing import OneHotEncoder, LabelEncoder\n",
    "%matplotlib inline"
   ]
  },
  {
   "cell_type": "markdown",
   "metadata": {},
   "source": [
    "## Overview"
   ]
  },
  {
   "cell_type": "markdown",
   "metadata": {},
   "source": [
    "To deal with missing values, for the variables ... I simply treated missing observations as another category; for variables, ... I replaced missing observations with the median value. \n",
    "\n",
    "In order to get the holdout data to look like the preprocessed training data I, first, changed the 'Birthdate' variable from a date into days, and, second, appeneded the 35,000 or so observations to the end of the training data, then preprocessed everything together, and then separated the datasets again. "
   ]
  },
  {
   "cell_type": "markdown",
   "metadata": {},
   "source": [
    "## Preparing the Data"
   ]
  },
  {
   "cell_type": "code",
   "execution_count": 2,
   "metadata": {
    "collapsed": false
   },
   "outputs": [],
   "source": [
    "df = pd.read_csv('/Users/brenthowe/datascience/data sets/svg/train_test_.csv')\n",
    "df_original = df\n",
    "\n",
    "le = LabelEncoder()\n",
    "\n",
    "# print df.info()"
   ]
  },
  {
   "cell_type": "code",
   "execution_count": 3,
   "metadata": {
    "collapsed": false
   },
   "outputs": [],
   "source": [
    "# print pd.DataFrame(df['Unnamed: 0'].unique()).describe() # This looks like a unique identifier\n",
    "# print pd.DataFrame(df['System ID'].unique()).describe() # 137042 unique values here...likely doesn't carry any useful information\n",
    "\n",
    "df.drop(['Unnamed: 0', 'System ID'], 1, inplace=True)\n"
   ]
  },
  {
   "cell_type": "code",
   "execution_count": 4,
   "metadata": {
    "collapsed": false
   },
   "outputs": [],
   "source": [
    "# assume Created Date Time is correlated with purchasing opportunity day\n",
    "\n",
    "df['Created Date Time'] = pd.to_datetime(df['Created Date Time']) # convert to pandas datetime object\n",
    "df['day_of_week'] = df['Created Date Time'].dt.dayofweek # create day of week variable\n",
    "df['month'] = df['Created Date Time'].dt.month # create month variable\n",
    "\n",
    "# no major holidays in dataset time frame so won't create a holiday dummy\n",
    "\n",
    "df.drop(['Created Date Time'], 1, inplace=True)\n",
    "\n",
    "# print df.info()"
   ]
  },
  {
   "cell_type": "code",
   "execution_count": 5,
   "metadata": {
    "collapsed": false
   },
   "outputs": [],
   "source": [
    "# print pd.DataFrame(df['Neustar Result Code'].unique()).describe() #6 unique values\n",
    "# print df['Neustar Result Code'].unique()\n",
    "\n",
    "df['Neustar Result Code'] = df['Neustar Result Code']\n",
    "# df.ix[df['Neustar Result Code'].isnull(), 'Neustar Result Code'] = -1\n",
    "df['Neustar Result Code'].fillna(value=999, inplace=True)\n",
    "\n",
    "# print df['Neustar Result Code'].unique()\n",
    "\n",
    "# print df.info()"
   ]
  },
  {
   "cell_type": "code",
   "execution_count": 6,
   "metadata": {
    "collapsed": false
   },
   "outputs": [],
   "source": [
    "# print pd.DataFrame(df['Lead Source'].unique()).describe() #183 unique values\n",
    "\n",
    "le.fit(df['Lead Source'])\n",
    "df['Lead Source'] = le.transform(df['Lead Source']) \n",
    "\n",
    "# df.info()"
   ]
  },
  {
   "cell_type": "code",
   "execution_count": 7,
   "metadata": {
    "collapsed": false
   },
   "outputs": [],
   "source": [
    "# print df['Smoker'].unique()\n",
    "\n",
    "df.ix[df['Smoker']=='FALSE', 'Smoker'] = 'No'\n",
    "df.ix[df['Smoker']=='OE State (Not Required)', 'Smoker'] = np.NaN\n",
    "df.ix[df['Smoker']=='N', 'Smoker'] = 'No'\n",
    "df.ix[df['Smoker']=='1', 'Smoker'] = 'Yes'\n",
    "df.ix[df['Smoker']=='TZT.Leads.Runtime.Domain.Models.Field', 'Smoker'] = np.NaN\n",
    "df.ix[df['Smoker']=='TRUE', 'Smoker'] = 'Yes'\n",
    "df.ix[df['Smoker']=='Y', 'Smoker'] = 'Yes'\n",
    "\n",
    "df['Smoker'].fillna(value='0', inplace=True)\n",
    "\n",
    "le.fit(df['Smoker'])\n",
    "df['Smoker'] = le.transform(df['Smoker']) \n",
    "\n",
    "# print df['Smoker'].describe()\n",
    "\n",
    "# print df.info()"
   ]
  },
  {
   "cell_type": "code",
   "execution_count": 8,
   "metadata": {
    "collapsed": false
   },
   "outputs": [],
   "source": [
    "# print df['Emails'].unique()\n",
    "\n",
    "df['Emails'].fillna(value=df['Emails'].median(), inplace=True) #use median because the distribution is skewed\n",
    "\n",
    "le.fit(df['Emails'])\n",
    "df['Emails'] = le.transform(df['Emails']) \n"
   ]
  },
  {
   "cell_type": "code",
   "execution_count": 9,
   "metadata": {
    "collapsed": false
   },
   "outputs": [],
   "source": [
    "# Looks like birthdate may be age in days, so I'll leave it as it is.\n",
    "\n",
    "# Use median value in place of a missing value\n",
    "df['Birthdate'].fillna(value=df['Birthdate'].median(), inplace=True) #use median because the distribution is skewed\n",
    "\n",
    "# print df.info()"
   ]
  },
  {
   "cell_type": "code",
   "execution_count": 10,
   "metadata": {
    "collapsed": false
   },
   "outputs": [],
   "source": [
    "# print df['Gender'].unique()\n",
    "\n",
    "df.ix[df['Gender']=='F', 'Gender'] = 'Female'\n",
    "df.ix[df['Gender']=='M', 'Gender'] = 'Male'\n",
    "\n",
    "df['Gender'].fillna(value='0', inplace=True)\n",
    "\n",
    "le.fit(df['Gender'])\n",
    "df['Gender'] = le.transform(df['Gender']) \n",
    "\n",
    "# print df['Gender'].describe()\n",
    "\n",
    "# print df.info()"
   ]
  },
  {
   "cell_type": "code",
   "execution_count": 11,
   "metadata": {
    "collapsed": false
   },
   "outputs": [],
   "source": [
    "# print df['Applicant State/Province'].unique()\n",
    "\n",
    "df['Applicant State/Province'].fillna(value='0', inplace=True)\n",
    "\n",
    "le.fit(df['Applicant State/Province'])\n",
    "df['Applicant State/Province'] = le.transform(df['Applicant State/Province'])\n",
    "\n",
    "# print df.info()"
   ]
  },
  {
   "cell_type": "code",
   "execution_count": 12,
   "metadata": {
    "collapsed": false
   },
   "outputs": [],
   "source": [
    "df['l'] = df['Applicant Zip/Postal Code'].astype(str).apply(lambda x: len(x))\n",
    "df.ix[(df['l']>5) & (df['l']<10), 'Applicant Zip/Postal Code'] = np.NaN\n",
    "\n",
    "df['Applicant Zip/Postal Code'] = df['Applicant Zip/Postal Code'].astype(str).apply(lambda x: x.split('-')[0] if len(x)>5 else x)\n",
    "df['Applicant Zip/Postal Code'] = df['Applicant Zip/Postal Code'].astype(str).apply(lambda x: '0' + x if len(x)==4 else x)\n",
    "\n",
    "# d = df[df['l']==3]\n",
    "# print d['Applicant Zip/Postal Code'].unique()\n",
    "\n",
    "df['Applicant Zip/Postal Code'] = df['Applicant Zip/Postal Code'].astype(str).apply(lambda x: '00' + x if (len(x)==3) & (x!='nan') else x)\n",
    "\n",
    "# df['Applicant Zip/Postal Code'] = df['Applicant Zip/Postal Code'].astype(float)\n",
    "# df.ix[df['Applicant Zip/Postal Code'].isnull(), 'Applicant Zip/Postal Code'] = -1\n",
    "\n",
    "df['zip'] = df['Applicant Zip/Postal Code']\n",
    "\n",
    "df.drop(['l', 'Applicant Zip/Postal Code'], 1, inplace=True)"
   ]
  },
  {
   "cell_type": "code",
   "execution_count": 13,
   "metadata": {
    "collapsed": true
   },
   "outputs": [],
   "source": [
    "def zip_average_income():\n",
    "    df = pd.read_csv('/Users/brenthowe/datascience/galvanize/project/data/14zpallagi.csv')\n",
    "    df_sum = df.groupby('zipcode')[['N02650', 'A02650']].sum()\n",
    "    df_sum['mean_income'] = df_sum['A02650']/df_sum['N02650']\n",
    "    df_sum.drop(['N02650', 'A02650'], 1, inplace=True)\n",
    "    df_sum['zip'] = df_sum.index.astype('str')\n",
    "    df_sum['zip'] = df_sum.zip.apply(lambda x: x.zfill(5))\n",
    "    df_sum.set_index('zip', inplace=True)\n",
    "\n",
    "    us_income = float(df_sum.loc['00000'].values)\n",
    "    df_sum.drop(df_sum.index[0], inplace=True)\n",
    "    df_sum['zip'] = df_sum.index\n",
    "    return us_income, df_sum"
   ]
  },
  {
   "cell_type": "code",
   "execution_count": 14,
   "metadata": {
    "collapsed": true
   },
   "outputs": [],
   "source": [
    "# df2 = df"
   ]
  },
  {
   "cell_type": "code",
   "execution_count": 15,
   "metadata": {
    "collapsed": false
   },
   "outputs": [
    {
     "name": "stdout",
     "output_type": "stream",
     "text": [
      "62029.4407391\n"
     ]
    }
   ],
   "source": [
    "# df = df2\n",
    "\n",
    "us_income, df_sum = zip_average_income()\n",
    "\n",
    "df_sum['mean_income'] = df_sum['mean_income']*1000\n",
    "df = df.merge(df_sum, how='left', on='zip')\n",
    "\n",
    "print df['mean_income'].mean()\n",
    "df['mean_income'].fillna(value=df['mean_income'].mean(), inplace=True) #approximate mean income in the United States\n",
    "\n",
    "# print df.info()"
   ]
  },
  {
   "cell_type": "code",
   "execution_count": 16,
   "metadata": {
    "collapsed": false
   },
   "outputs": [],
   "source": [
    "df_median = pd.read_csv('income_by_zipcode.txt', sep='\\t', index_col=False)\n",
    "df_median['zip'] = df_median['zipcode, median_income'].str[:5]\n",
    "df_median['zip'] = df_median['zip'].apply(lambda x: '0'+ x if len(x)==4 else x)\n",
    "\n",
    "df_median['median_income'] = df_median['zipcode, median_income'].str[8:].apply(lambda x: x.replace(\",\",\"\"))\n",
    "df_median.drop('zipcode, median_income', 1, inplace=True)\n",
    "\n",
    "df = df.merge(df_median, how='left', on='zip')\n",
    "\n",
    "df.ix[(df.median_income == '') | (df.median_income == ' '), 'median_income'] = np.nan\n",
    "\n",
    "df.median_income = df.median_income.astype(float)\n",
    "\n",
    "df['median_income'].fillna(value='51939', inplace=True) #approximate median income in the United States\n",
    "df['median_income'] = df['median_income'].astype(float)\n",
    "\n",
    "df.drop(['zip', 'Applicant City'], 1, inplace=True)\n",
    "# print df.info()"
   ]
  },
  {
   "cell_type": "code",
   "execution_count": 17,
   "metadata": {
    "collapsed": false
   },
   "outputs": [],
   "source": [
    "df['target'].fillna(value=0, inplace=True)\n",
    "\n",
    "# print df.info()"
   ]
  },
  {
   "cell_type": "code",
   "execution_count": 18,
   "metadata": {
    "collapsed": false
   },
   "outputs": [],
   "source": [
    "X = df[['Neustar Result Code', 'Lead Source', 'Smoker', 'Emails', 'Birthdate', 'Gender', 'Applicant State/Province', 'day_of_week', 'month', 'mean_income', 'median_income']]\n",
    "\n",
    "y_train = df.pop('target')"
   ]
  },
  {
   "cell_type": "code",
   "execution_count": 19,
   "metadata": {
    "collapsed": false
   },
   "outputs": [],
   "source": [
    "# encode the categorical variables\n",
    "enc = OneHotEncoder(categorical_features = [0, 1, 2, 5, 6, 7, 8])\n",
    "X_train = enc.fit_transform(X).toarray()"
   ]
  },
  {
   "cell_type": "markdown",
   "metadata": {
    "collapsed": true
   },
   "source": [
    "I put the above code in a file named data_clean.py (in a function called data_clean), so I would not have to copy and paste the above code below when I needed to preprocess the holdout_.csv data. "
   ]
  },
  {
   "cell_type": "code",
   "execution_count": 15,
   "metadata": {
    "collapsed": false
   },
   "outputs": [
    {
     "name": "stdout",
     "output_type": "stream",
     "text": [
      "data_clean is executing\n"
     ]
    }
   ],
   "source": [
    "X_train, y_train = data_clean.data_clean('/Users/brenthowe/datascience/data sets/svg/train_test_.csv')"
   ]
  },
  {
   "cell_type": "markdown",
   "metadata": {},
   "source": [
    "## Training the Model"
   ]
  },
  {
   "cell_type": "code",
   "execution_count": null,
   "metadata": {
    "collapsed": false
   },
   "outputs": [],
   "source": [
    "rf = RandomForestClassifier()\n",
    "\n",
    "param_dict = {'n_estimators': [10, 25, 45, 55],\n",
    "    'max_features': ['auto', 25, 35, 50]}\n",
    "# param_dict = {'n_estimators': [10],\n",
    "#     'max_features': [5]}\n",
    "gsCV_rf = GridSearchCV(rf, param_dict, n_jobs = -1, scoring='roc_auc')\n",
    "gsCV_rf.fit(X_train, y_train)\n",
    "\n",
    "print gsCV_rf.best_params_\n",
    "print gsCV_rf.best_score_"
   ]
  },
  {
   "cell_type": "code",
   "execution_count": 16,
   "metadata": {
    "collapsed": false
   },
   "outputs": [
    {
     "name": "stdout",
     "output_type": "stream",
     "text": [
      "Feature ranking:\n"
     ]
    },
    {
     "data": {
      "image/png": "[encoded data removed]",
      "text/plain": [
       "<matplotlib.figure.Figure at 0x114e9cf50>"
      ]
     },
     "metadata": {},
     "output_type": "display_data"
    }
   ],
   "source": [
    "# feature importance plot (I don't know of a way of getting this from the gsCV_rf object from above, so I estimate again using the best parameters from the grid search)\n",
    "rf = RandomForestClassifier(n_estimators=55, max_features=25)\n",
    "rf.fit(X_train, y_train)\n",
    "importances = rf.feature_importances_\n",
    "std = np.std([tree.feature_importances_ for tree in rf.estimators_],\n",
    "             axis=0)\n",
    "indices = np.argsort(importances)[::-1]\n",
    "\n",
    "\n",
    "# Print the feature ranking\n",
    "print(\"Feature ranking:\")\n",
    "\n",
    "# for f in range(X.shape[1]):\n",
    "#     print(\"%d. feature %d (%f)\" % (f + 1, indices[f], importances[indices[f]]))\n",
    "\n",
    "# Plot the feature importances of the forest\n",
    "plt.figure()\n",
    "plt.title(\"Feature importances\")\n",
    "plt.bar(range(15), importances[indices[:15]], color=\"r\", yerr=std[indices[:15]], align=\"center\")\n",
    "plt.xticks(range(15), indices[:15])\n",
    "plt.xlim([-1, 15])\n",
    "plt.show()"
   ]
  },
  {
   "cell_type": "markdown",
   "metadata": {},
   "source": [
    "Feature numbers 260 and 261 are mean and median incomes by zip, respectively. Feature numbers 258 and 259 correspond to months November and December. Feature numbers 190 and 191 correspond to gender (I think...either that or a state). It is a difficult to tell what these correspond to and I need to find a good way of doing it (the problem is the encoding step which throws things off). "
   ]
  },
  {
   "cell_type": "markdown",
   "metadata": {},
   "source": [
    "## Preparing the holdout_.csv data"
   ]
  },
  {
   "cell_type": "code",
   "execution_count": 17,
   "metadata": {
    "collapsed": false
   },
   "outputs": [
    {
     "name": "stdout",
     "output_type": "stream",
     "text": [
      "data_clean is executing\n"
     ]
    }
   ],
   "source": [
    "X_test = data_clean.data_clean('/Users/brenthowe/datascience/data sets/svg/holdout_.csv', train=False)"
   ]
  },
  {
   "cell_type": "markdown",
   "metadata": {},
   "source": [
    "## Generating Predictions"
   ]
  },
  {
   "cell_type": "code",
   "execution_count": 19,
   "metadata": {
    "collapsed": true
   },
   "outputs": [],
   "source": [
    "# I think what I need to do is append the holdout to the original data, preprocess the data, and then separate the datasets"
   ]
  },
  {
   "cell_type": "code",
   "execution_count": 18,
   "metadata": {
    "collapsed": false
   },
   "outputs": [
    {
     "ename": "ValueError",
     "evalue": "Number of features of the model must  match the input. Model n_features is 262 and  input n_features is 222 ",
     "output_type": "error",
     "traceback": [
      "\u001b[0;31m-----------------------------------------------------------\u001b[0m",
      "\u001b[0;31mValueError\u001b[0m                Traceback (most recent call last)",
      "\u001b[0;32m<ipython-input-18-b776219e8877>\u001b[0m in \u001b[0;36m<module>\u001b[0;34m()\u001b[0m\n\u001b[0;32m----> 1\u001b[0;31m \u001b[0my_test_pred\u001b[0m \u001b[0;34m=\u001b[0m \u001b[0mrf\u001b[0m\u001b[0;34m.\u001b[0m\u001b[0mpredict\u001b[0m\u001b[0;34m(\u001b[0m\u001b[0mX_test\u001b[0m\u001b[0;34m)\u001b[0m\u001b[0;34m\u001b[0m\u001b[0m\n\u001b[0m",
      "\u001b[0;32m/Users/brenthowe/anaconda/lib/python2.7/site-packages/sklearn/ensemble/forest.pyc\u001b[0m in \u001b[0;36mpredict\u001b[0;34m(self, X)\u001b[0m\n\u001b[1;32m    496\u001b[0m             \u001b[0mThe\u001b[0m \u001b[0mpredicted\u001b[0m \u001b[0mclasses\u001b[0m\u001b[0;34m.\u001b[0m\u001b[0;34m\u001b[0m\u001b[0m\n\u001b[1;32m    497\u001b[0m         \"\"\"\n\u001b[0;32m--> 498\u001b[0;31m         \u001b[0mproba\u001b[0m \u001b[0;34m=\u001b[0m \u001b[0mself\u001b[0m\u001b[0;34m.\u001b[0m\u001b[0mpredict_proba\u001b[0m\u001b[0;34m(\u001b[0m\u001b[0mX\u001b[0m\u001b[0;34m)\u001b[0m\u001b[0;34m\u001b[0m\u001b[0m\n\u001b[0m\u001b[1;32m    499\u001b[0m \u001b[0;34m\u001b[0m\u001b[0m\n\u001b[1;32m    500\u001b[0m         \u001b[0;32mif\u001b[0m \u001b[0mself\u001b[0m\u001b[0;34m.\u001b[0m\u001b[0mn_outputs_\u001b[0m \u001b[0;34m==\u001b[0m \u001b[0;36m1\u001b[0m\u001b[0;34m:\u001b[0m\u001b[0;34m\u001b[0m\u001b[0m\n",
      "\u001b[0;32m/Users/brenthowe/anaconda/lib/python2.7/site-packages/sklearn/ensemble/forest.pyc\u001b[0m in \u001b[0;36mpredict_proba\u001b[0;34m(self, X)\u001b[0m\n\u001b[1;32m    535\u001b[0m         \"\"\"\n\u001b[1;32m    536\u001b[0m         \u001b[0;31m# Check data\u001b[0m\u001b[0;34m\u001b[0m\u001b[0;34m\u001b[0m\u001b[0m\n\u001b[0;32m--> 537\u001b[0;31m         \u001b[0mX\u001b[0m \u001b[0;34m=\u001b[0m \u001b[0mself\u001b[0m\u001b[0;34m.\u001b[0m\u001b[0m_validate_X_predict\u001b[0m\u001b[0;34m(\u001b[0m\u001b[0mX\u001b[0m\u001b[0;34m)\u001b[0m\u001b[0;34m\u001b[0m\u001b[0m\n\u001b[0m\u001b[1;32m    538\u001b[0m \u001b[0;34m\u001b[0m\u001b[0m\n\u001b[1;32m    539\u001b[0m         \u001b[0;31m# Assign chunk of trees to jobs\u001b[0m\u001b[0;34m\u001b[0m\u001b[0;34m\u001b[0m\u001b[0m\n",
      "\u001b[0;32m/Users/brenthowe/anaconda/lib/python2.7/site-packages/sklearn/ensemble/forest.pyc\u001b[0m in \u001b[0;36m_validate_X_predict\u001b[0;34m(self, X)\u001b[0m\n\u001b[1;32m    317\u001b[0m                                  \"call `fit` before exploiting the model.\")\n\u001b[1;32m    318\u001b[0m \u001b[0;34m\u001b[0m\u001b[0m\n\u001b[0;32m--> 319\u001b[0;31m         \u001b[0;32mreturn\u001b[0m \u001b[0mself\u001b[0m\u001b[0;34m.\u001b[0m\u001b[0mestimators_\u001b[0m\u001b[0;34m[\u001b[0m\u001b[0;36m0\u001b[0m\u001b[0;34m]\u001b[0m\u001b[0;34m.\u001b[0m\u001b[0m_validate_X_predict\u001b[0m\u001b[0;34m(\u001b[0m\u001b[0mX\u001b[0m\u001b[0;34m,\u001b[0m \u001b[0mcheck_input\u001b[0m\u001b[0;34m=\u001b[0m\u001b[0mTrue\u001b[0m\u001b[0;34m)\u001b[0m\u001b[0;34m\u001b[0m\u001b[0m\n\u001b[0m\u001b[1;32m    320\u001b[0m \u001b[0;34m\u001b[0m\u001b[0m\n\u001b[1;32m    321\u001b[0m     \u001b[0;34m@\u001b[0m\u001b[0mproperty\u001b[0m\u001b[0;34m\u001b[0m\u001b[0m\n",
      "\u001b[0;32m/Users/brenthowe/anaconda/lib/python2.7/site-packages/sklearn/tree/tree.pyc\u001b[0m in \u001b[0;36m_validate_X_predict\u001b[0;34m(self, X, check_input)\u001b[0m\n\u001b[1;32m    374\u001b[0m                              \u001b[0;34m\" match the input. Model n_features is %s and \"\u001b[0m\u001b[0;34m\u001b[0m\u001b[0m\n\u001b[1;32m    375\u001b[0m                              \u001b[0;34m\" input n_features is %s \"\u001b[0m\u001b[0;34m\u001b[0m\u001b[0m\n\u001b[0;32m--> 376\u001b[0;31m                              % (self.n_features_, n_features))\n\u001b[0m\u001b[1;32m    377\u001b[0m \u001b[0;34m\u001b[0m\u001b[0m\n\u001b[1;32m    378\u001b[0m         \u001b[0;32mreturn\u001b[0m \u001b[0mX\u001b[0m\u001b[0;34m\u001b[0m\u001b[0m\n",
      "\u001b[0;31mValueError\u001b[0m: Number of features of the model must  match the input. Model n_features is 262 and  input n_features is 222 "
     ]
    }
   ],
   "source": [
    "y_test_pred = rf.predict(X_test)"
   ]
  },
  {
   "cell_type": "code",
   "execution_count": null,
   "metadata": {
    "collapsed": true
   },
   "outputs": [],
   "source": [
    "holdout = pd.read_csv('/Users/brenthowe/datascience/data sets/svg/holdout_.csv')\n",
    "holdout['predictions'] = y_test_pred\n",
    "\n",
    "holdout.to_csv('/Users/brenthowe/datascience/data sets/svg/holdout_prediction.csv')"
   ]
  },
  {
   "cell_type": "code",
   "execution_count": null,
   "metadata": {
    "collapsed": true
   },
   "outputs": [],
   "source": [
    "\n",
    "\n",
    "\n"
   ]
  },
  {
   "cell_type": "code",
   "execution_count": null,
   "metadata": {
    "collapsed": true
   },
   "outputs": [],
   "source": [
    "# talk about how I can deal with missing values and the approach I take here"
   ]
  },
  {
   "cell_type": "code",
   "execution_count": null,
   "metadata": {
    "collapsed": true
   },
   "outputs": [],
   "source": [
    "# df.ix[df.fico_range == ran, 'fair'] = 1\n",
    "\n",
    "# df_median['l'] = df_median['zip'].apply(lambda x: len(x))\n",
    "# print df_median['l'].describe()\n"
   ]
  }
 ],
 "metadata": {
  "anaconda-cloud": {},
  "kernelspec": {
   "display_name": "Python [Root]",
   "language": "python",
   "name": "Python [Root]"
  },
  "language_info": {
   "codemirror_mode": {
    "name": "ipython",
    "version": 2
   },
   "file_extension": ".py",
   "mimetype": "text/x-python",
   "name": "python",
   "nbconvert_exporter": "python",
   "pygments_lexer": "ipython2",
   "version": "2.7.12"
  }
 },
 "nbformat": 4,
 "nbformat_minor": 0
}
