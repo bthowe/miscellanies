{
 "cells": [
  {
   "cell_type": "code",
   "execution_count": 15,
   "metadata": {
    "collapsed": true
   },
   "outputs": [],
   "source": [
    "import numpy as np\n",
    "import pandas as pd"
   ]
  },
  {
   "cell_type": "markdown",
   "metadata": {},
   "source": [
    "## Statistics"
   ]
  },
  {
   "cell_type": "markdown",
   "metadata": {},
   "source": [
    "### 1"
   ]
  },
  {
   "cell_type": "code",
   "execution_count": null,
   "metadata": {
    "collapsed": true
   },
   "outputs": [],
   "source": []
  },
  {
   "cell_type": "markdown",
   "metadata": {},
   "source": [
    "### 2"
   ]
  },
  {
   "cell_type": "code",
   "execution_count": null,
   "metadata": {
    "collapsed": true
   },
   "outputs": [],
   "source": []
  },
  {
   "cell_type": "markdown",
   "metadata": {},
   "source": [
    "## Python Programming"
   ]
  },
  {
   "cell_type": "markdown",
   "metadata": {},
   "source": [
    "### 1"
   ]
  },
  {
   "cell_type": "code",
   "execution_count": 20,
   "metadata": {
    "collapsed": false
   },
   "outputs": [],
   "source": [
    "# a\n",
    "[2]*1000"
   ]
  },
  {
   "cell_type": "code",
   "execution_count": null,
   "metadata": {
    "collapsed": true
   },
   "outputs": [],
   "source": [
    "# b\n",
    "[num%7 for num in range(1000)]"
   ]
  },
  {
   "cell_type": "code",
   "execution_count": null,
   "metadata": {
    "collapsed": true
   },
   "outputs": [],
   "source": [
    "# c\n",
    "np.random.normal(10, 3, 1000)"
   ]
  },
  {
   "cell_type": "markdown",
   "metadata": {},
   "source": [
    "### 2"
   ]
  },
  {
   "cell_type": "code",
   "execution_count": 13,
   "metadata": {
    "collapsed": false
   },
   "outputs": [
    {
     "name": "stdout",
     "output_type": "stream",
     "text": [
      "[3.1500424183701257, 4.5719902724435304, 3.7974392180486078]\n"
     ]
    }
   ],
   "source": [
    "[sum(vec[x:x+7]) for x in range(0, len(vec), 7)]"
   ]
  },
  {
   "cell_type": "markdown",
   "metadata": {},
   "source": [
    "### 3"
   ]
  },
  {
   "cell_type": "code",
   "execution_count": 19,
   "metadata": {
    "collapsed": false
   },
   "outputs": [
    {
     "data": {
      "text/plain": [
       "3862.0"
      ]
     },
     "execution_count": 19,
     "metadata": {},
     "output_type": "execute_result"
    }
   ],
   "source": [
    "df = pd.read_csv('../hackerrank_data/skill-assessment/DSTakeHome/prog1.csv')\n",
    "df[df['state']=='OH']['transactions'].mean()"
   ]
  },
  {
   "cell_type": "markdown",
   "metadata": {},
   "source": [
    "## Machine Learning"
   ]
  },
  {
   "cell_type": "markdown",
   "metadata": {},
   "source": [
    "### 1"
   ]
  },
  {
   "cell_type": "markdown",
   "metadata": {},
   "source": [
    "\n",
    "\n",
    "This should be avoided because it means the model does not generalize as well to other subsamples. \n",
    "\n",
    "You can tell you are overfitting if there is a large difference in the value of your validation metric between your training and test sets. "
   ]
  },
  {
   "cell_type": "markdown",
   "metadata": {},
   "source": [
    "### 2"
   ]
  },
  {
   "cell_type": "code",
   "execution_count": null,
   "metadata": {
    "collapsed": true
   },
   "outputs": [],
   "source": []
  },
  {
   "cell_type": "markdown",
   "metadata": {},
   "source": [
    "## Time Series"
   ]
  },
  {
   "cell_type": "markdown",
   "metadata": {},
   "source": [
    "### 1"
   ]
  },
  {
   "cell_type": "code",
   "execution_count": null,
   "metadata": {
    "collapsed": true
   },
   "outputs": [],
   "source": [
    "There is possibly a seasonal component in the data. Only testing on the last month would not take this into consideration.\n",
    "\n"
   ]
  },
  {
   "cell_type": "markdown",
   "metadata": {},
   "source": [
    "### 2 explore whether it's autoregressive"
   ]
  },
  {
   "cell_type": "code",
   "execution_count": 25,
   "metadata": {
    "collapsed": false
   },
   "outputs": [
    {
     "name": "stdout",
     "output_type": "stream",
     "text": [
      "           date     target\n",
      "0    2012-05-01  80.958385\n",
      "1    2012-05-02  83.313261\n",
      "2    2012-05-03  83.759661\n",
      "3    2012-05-04  87.540088\n",
      "4    2012-05-05  87.473567\n",
      "5    2012-05-06  87.342263\n",
      "6    2012-05-07  89.462504\n",
      "7    2012-05-08  90.298881\n",
      "8    2012-05-09  90.480159\n",
      "9    2012-05-10  89.692458\n",
      "10   2012-05-11  91.350383\n",
      "11   2012-05-12  89.820511\n",
      "12   2012-05-13  88.163115\n",
      "13   2012-05-14  85.701302\n",
      "14   2012-05-15  87.972489\n",
      "15   2012-05-16  85.561094\n",
      "16   2012-05-17  84.206605\n",
      "17   2012-05-18  83.676660\n",
      "18   2012-05-19  81.994996\n",
      "19   2012-05-20  80.178958\n",
      "20   2012-05-21  78.925805\n",
      "21   2012-05-22  77.261115\n",
      "22   2012-05-23  75.114696\n",
      "23   2012-05-24  71.737301\n",
      "24   2012-05-25  73.191571\n",
      "25   2012-05-26  71.548472\n",
      "26   2012-05-27  70.693870\n",
      "27   2012-05-28  68.855270\n",
      "28   2012-05-29  69.568757\n",
      "29   2012-05-30  70.437316\n",
      "..          ...        ...\n",
      "170  2012-10-18  91.025850\n",
      "171  2012-10-19  87.937105\n",
      "172  2012-10-20  87.203781\n",
      "173  2012-10-21  85.414572\n",
      "174  2012-10-22  83.763854\n",
      "175  2012-10-23  82.565677\n",
      "176  2012-10-24  81.824860\n",
      "177  2012-10-25  81.523066\n",
      "178  2012-10-26  78.899771\n",
      "179  2012-10-27  77.558625\n",
      "180  2012-10-28  73.689973\n",
      "181  2012-10-29  74.604145\n",
      "182  2012-10-30  72.700388\n",
      "183  2012-10-31  70.063497\n",
      "184  2012-11-01  71.316131\n",
      "185  2012-11-02  70.133384\n",
      "186  2012-11-03  71.499142\n",
      "187  2012-11-04  69.262783\n",
      "188  2012-11-05  69.845004\n",
      "189  2012-11-06  69.841268\n",
      "190  2012-11-07  71.315807\n",
      "191  2012-11-08  72.835490\n",
      "192  2012-11-09  72.833554\n",
      "193  2012-11-10  75.690149\n",
      "194  2012-11-11  75.076095\n",
      "195  2012-11-12  76.754521\n",
      "196  2012-11-13  80.817535\n",
      "197  2012-11-14  79.950166\n",
      "198  2012-11-15  82.943206\n",
      "199  2012-11-16  83.651391\n",
      "\n",
      "[200 rows x 2 columns]\n"
     ]
    }
   ],
   "source": [
    "df_ts1 = pd.read_csv('../hackerrank_data/skill-assessment/DSTakeHome/ts1.csv')\n",
    "df_ts2 = pd.read_csv('../hackerrank_data/skill-assessment/DSTakeHome/ts2.csv')\n",
    "df_ts3 = pd.read_csv('../hackerrank_data/skill-assessment/DSTakeHome/ts3.csv')\n",
    "print df_ts3"
   ]
  },
  {
   "cell_type": "markdown",
   "metadata": {},
   "source": [
    "### 3"
   ]
  },
  {
   "cell_type": "code",
   "execution_count": 26,
   "metadata": {
    "collapsed": false
   },
   "outputs": [
    {
     "name": "stdout",
     "output_type": "stream",
     "text": [
      "           date     target\n",
      "0    2011-03-01  11.426376\n",
      "1    2011-03-02  11.592365\n",
      "2    2011-03-03  12.033633\n",
      "3    2011-03-04  12.205679\n",
      "4    2011-03-05  11.618540\n",
      "5    2011-03-06   9.143627\n",
      "6    2011-03-07  10.020364\n",
      "7    2011-03-08   9.958126\n",
      "8    2011-03-09   9.814893\n",
      "9    2011-03-10   8.399673\n",
      "10   2011-03-11   8.401621\n",
      "11   2011-03-12   9.299076\n",
      "12   2011-03-13  10.868033\n",
      "13   2011-03-14  10.504835\n",
      "14   2011-03-15  10.741056\n",
      "15   2011-03-16  10.464934\n",
      "16   2011-03-17   8.948394\n",
      "17   2011-03-18   8.848882\n",
      "18   2011-03-19   8.799927\n",
      "19   2011-03-20   9.100636\n",
      "20   2011-03-21  10.470470\n",
      "21   2011-03-22  11.092505\n",
      "22   2011-03-23  10.600230\n",
      "23   2011-03-24  10.166799\n",
      "24   2011-03-25  10.813723\n",
      "25   2011-03-26  11.126269\n",
      "26   2011-03-27  10.099633\n",
      "27   2011-03-28   9.362248\n",
      "28   2011-03-29   9.918155\n",
      "29   2011-03-30  10.711242\n",
      "..          ...        ...\n",
      "140  2011-07-19   7.677742\n",
      "141  2011-07-20  10.243710\n",
      "142  2011-07-21  10.595697\n",
      "143  2011-07-22  10.178341\n",
      "144  2011-07-23  11.183322\n",
      "145  2011-07-24  11.714748\n",
      "146  2011-07-25  10.581080\n",
      "147  2011-07-26  12.612859\n",
      "148  2011-07-27  11.573974\n",
      "149  2011-07-28   9.677287\n",
      "150  2011-07-29   9.629701\n",
      "151  2011-07-30   9.948329\n",
      "152  2011-07-31  12.271809\n",
      "153  2011-08-01  11.696069\n",
      "154  2011-08-02  11.644247\n",
      "155  2011-08-03  11.073820\n",
      "156  2011-08-04  10.417673\n",
      "157  2011-08-05  10.257645\n",
      "158  2011-08-06  10.967991\n",
      "159  2011-08-07  12.752839\n",
      "160  2011-08-08  12.954380\n",
      "161  2011-08-09  13.275974\n",
      "162  2011-08-10  11.061858\n",
      "163  2011-08-11  11.727197\n",
      "164  2011-08-12  11.428962\n",
      "165  2011-08-13   9.533024\n",
      "166  2011-08-14  10.194139\n",
      "167  2011-08-15   9.977143\n",
      "168  2011-08-16  11.448587\n",
      "169  2011-08-17  10.247929\n",
      "\n",
      "[170 rows x 2 columns]\n"
     ]
    }
   ],
   "source": [
    "df_ts4 = pd.read_csv('../hackerrank_data/skill-assessment/DSTakeHome/ts4.csv')\n",
    "print df_ts4"
   ]
  },
  {
   "cell_type": "code",
   "execution_count": null,
   "metadata": {
    "collapsed": true
   },
   "outputs": [],
   "source": []
  }
 ],
 "metadata": {
  "kernelspec": {
   "display_name": "Python [Root]",
   "language": "python",
   "name": "Python [Root]"
  },
  "language_info": {
   "codemirror_mode": {
    "name": "ipython",
    "version": 2
   },
   "file_extension": ".py",
   "mimetype": "text/x-python",
   "name": "python",
   "nbconvert_exporter": "python",
   "pygments_lexer": "ipython2",
   "version": "2.7.12"
  }
 },
 "nbformat": 4,
 "nbformat_minor": 0
}
