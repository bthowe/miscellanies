{
 "cells": [
  {
   "cell_type": "code",
   "execution_count": null,
   "metadata": {
    "collapsed": true
   },
   "outputs": [],
   "source": [
    "import numpy as np\n",
    "import pandas as pd\n",
    "import numpy.random\n",
    "import matplotlib.pyplot as plt\n",
    "from scipy import stats\n",
    "%matplotlib inline"
   ]
  },
  {
   "cell_type": "code",
   "execution_count": null,
   "metadata": {
    "collapsed": false
   },
   "outputs": [],
   "source": [
    "df = pd.read_csv('../hackerrank_data/shots.csv')\n",
    "df = df[df.shot_y<=40]\n",
    "print df.info()"
   ]
  },
  {
   "cell_type": "code",
   "execution_count": null,
   "metadata": {
    "collapsed": false
   },
   "outputs": [],
   "source": [
    "heatmap, xedges, yedges = np.histogram2d(df.shot_x, df.shot_y, bins=50)\n",
    "extent = [xedges[0], xedges[-1], yedges[0], yedges[-1]]\n",
    "\n",
    "fig = plt.figure(figsize=(18,8))\n",
    "ax = fig.add_subplot(1,1,1)\n",
    "ax.imshow(heatmap.T, extent=extent, origin='lower')\n",
    "plt.show()"
   ]
  },
  {
   "cell_type": "code",
   "execution_count": null,
   "metadata": {
    "collapsed": false
   },
   "outputs": [],
   "source": [
    "bin_num = 20\n",
    "\n",
    "d = stats.binned_statistic_2d(df.shot_x, df.shot_y, df.made, statistic='count', bins=bin_num)\n",
    "d = np.array([np.where(np.array(d[0])>40, np.array(d[0]), 0), np.array(d[1]), np.array(d[2])])\n",
    "\n",
    "extent = [d[1][0], d[1][-1], d[2][0], d[2][-1]]\n",
    "fig = plt.figure(figsize=(18,8))\n",
    "ax = fig.add_subplot(1,1,1)\n",
    "im = ax.imshow(d[0].T, cmap='RdBu_r', extent=extent, interpolation='nearest', origin='lower')\n",
    "\n",
    "cbar_ax = fig.add_axes([0.85, 0.65, 0.05, 0.2])\n",
    "cb = plt.colorbar(im, cax=cbar_ax)\n",
    "cb.set_label('shooting percentage')\n",
    "plt.show()"
   ]
  },
  {
   "cell_type": "code",
   "execution_count": null,
   "metadata": {
    "collapsed": false
   },
   "outputs": [],
   "source": [
    "bin_num = 40\n",
    "min_obs = 3\n",
    "# bin_num = 20\n",
    "# min_obs = 30\n",
    "\n",
    "d_mean = stats.binned_statistic_2d(df.shot_x, df.shot_y, df.made, statistic='mean', bins=bin_num)\n",
    "d_count = stats.binned_statistic_2d(df.shot_x, df.shot_y, df.made, statistic='count', bins=bin_num)\n",
    "d = np.array([np.where(np.array(d_count[0])>min_obs, np.array(d_mean[0]), np.nan), np.array(d_mean[1]), np.array(d_mean[2])])\n",
    "\n",
    "extent = [d[1][0], d[1][-1], d[2][0], d[2][-1]]\n",
    "fig = plt.figure(figsize=(18,8))\n",
    "ax = fig.add_subplot(1,1,1)\n",
    "im = ax.imshow(d[0].T, cmap='YlOrRd', extent=extent, interpolation='nearest', origin='lower') # RdBu_r\n",
    "\n",
    "cbar_ax = fig.add_axes([0.85, 0.65, 0.05, 0.2])\n",
    "cb = plt.colorbar(im, cax=cbar_ax)\n",
    "cb.set_label('shooting percentage')\n",
    "\n",
    "plt.savefig('shooting_percentage.png')\n",
    "plt.show()"
   ]
  },
  {
   "cell_type": "markdown",
   "metadata": {},
   "source": [
    "Is there a significant difference in the shooting percentage between the top of the key and the wings?\n",
    "* Test this...two-sample difference in means\n",
    "\n",
    "Why might this be?\n",
    "* Worse shooters\n",
    "* Farther away\n",
    "* Defense structure\n",
    "* Better defense\n",
    "* Worse offensive techniques"
   ]
  },
  {
   "cell_type": "code",
   "execution_count": null,
   "metadata": {
    "collapsed": false
   },
   "outputs": [],
   "source": [
    "# bin_num = 40\n",
    "# min_obs = 5\n",
    "bin_num = 20\n",
    "min_obs = 30\n",
    "\n",
    "var = df.defender_distance\n",
    "# defender_distance\n",
    "# defender_velocity_ft_sec\n",
    "# defender_angle\n",
    "# shooter_velocity_ft_sec\n",
    "# shooter_velocity_angle\n",
    "# dribbles_before\n",
    "\n",
    "d_mean = stats.binned_statistic_2d(df.shot_x, df.shot_y, var, statistic='mean', bins=bin_num)\n",
    "d_count = stats.binned_statistic_2d(df.shot_x, df.shot_y, var, statistic='count', bins=bin_num)\n",
    "d = np.array([np.where(np.array(d_count[0])>min_obs, np.array(d_mean[0]), np.nan), np.array(d_mean[1]), np.array(d_mean[2])])\n",
    "\n",
    "extent = [d[1][0], d[1][-1], d[2][0], d[2][-1]]\n",
    "fig = plt.figure(figsize=(18,8))\n",
    "ax = fig.add_subplot(1,1,1)\n",
    "im = ax.imshow(d[0].T, cmap='YlOrRd', extent=extent, interpolation='nearest', origin='lower') # RdBu_r\n",
    "\n",
    "cbar_ax = fig.add_axes([0.85, 0.65, 0.05, 0.2])\n",
    "cb = plt.colorbar(im, cax=cbar_ax)\n",
    "cb.set_label('shooting percentage')\n",
    "\n",
    "plt.savefig('shooting_percentage.png')\n",
    "plt.show()"
   ]
  },
  {
   "cell_type": "code",
   "execution_count": null,
   "metadata": {
    "collapsed": false
   },
   "outputs": [],
   "source": [
    "from sklearn.cluster import KMeans\n",
    "df = df[((np.sqrt(df.shot_y**2 + df.shot_x**2)>=23.75) & (np.sqrt(df.shot_y**2 + df.shot_x**2)<26.75)) | ((np.abs(df.shot_x)>=22) & (df.shot_y<(14-4-.75)))]\n",
    "# X = df[['shooter_velocity_ft_sec', 'shooter_velocity_angle', 'dribbles_before', 'defender_distance', 'defender_angle', 'defender_velocity_ft_sec', 'defender_velocity_angle']]\n",
    "X = df[['shot_x', 'shot_y']]\n",
    "\n",
    "kmean_score = []\n",
    "for i in xrange(2, 10):\n",
    "    kmean = KMeans(n_clusters = i).fit(X) #random_state = 2\n",
    "    kmean_score.append(-kmean.score(X))\n",
    "\n",
    "fig = plt.figure(figsize=(18, 8))\n",
    "ax = fig.add_subplot(1,1,1)\n",
    "ax.plot(range(2, 10), kmean_score, marker='o')\n",
    "plt.show()\n"
   ]
  },
  {
   "cell_type": "code",
   "execution_count": null,
   "metadata": {
    "collapsed": false
   },
   "outputs": [],
   "source": [
    "kmean4 = KMeans(n_clusters = 4, random_state = 2).fit_predict(X)\n",
    "\n",
    "fig = plt.figure(figsize=(18, 8))\n",
    "ax = fig.add_subplot(1,1,1)\n",
    "ax.scatter(df.shot_x, df.shot_y, c = kmean4)\n",
    "plt.show()\n",
    "\n",
    "# kmean5 = KMeans(n_clusters = 5, random_state = 2).fit(X)"
   ]
  },
  {
   "cell_type": "code",
   "execution_count": null,
   "metadata": {
    "collapsed": false
   },
   "outputs": [],
   "source": [
    "kmean5 = KMeans(n_clusters = 5, random_state = 2).fit_predict(X)\n",
    "\n",
    "fig = plt.figure(figsize=(18, 8))\n",
    "ax = fig.add_subplot(1,1,1)\n",
    "ax.scatter(df.shot_x, df.shot_y, c = kmean5)\n",
    "plt.show()"
   ]
  },
  {
   "cell_type": "code",
   "execution_count": null,
   "metadata": {
    "collapsed": false
   },
   "outputs": [],
   "source": [
    "# if you control for distance from the hoop, distance of the defender, number of dribbles (or just if it is greater than 0?), \n",
    "# velocity of shooter, absolute value of angle of the shooter, ..the other ones too.\n",
    "# are there group specific effects?\n",
    "\n",
    "from statsmodels.discrete.discrete_model import Logit\n",
    "\n",
    "X = pd.get_dummies(kmean5, drop_first=False)\n",
    "X['ones'] = 1\n",
    "distance = np.sqrt(df.shot_x.values**2 + df.shot_y.values**2)\n",
    "X = pd.concat([X,pd.DataFrame(distance)], axis=1)\n",
    "X.drop(1, 1, inplace=True)\n",
    "\n",
    "# print kmean5[0:10]\n",
    "# print df\n",
    "# print pd.DataFrame(df.made.values)\n",
    "logit = Logit(pd.DataFrame(df.made.values), X).fit()\n",
    "print logit.summary()\n"
   ]
  },
  {
   "cell_type": "markdown",
   "metadata": {},
   "source": [
    "From the coefficient on the constant, we see that the probability of making a shot from this location (left wing) is around .3 (odds of .42). This means the odds of making a shot from location 4 (right corner) is (exp(0.3421)-1)*100 (about 41) percent higher than in location 0."
   ]
  },
  {
   "cell_type": "code",
   "execution_count": null,
   "metadata": {
    "collapsed": false
   },
   "outputs": [],
   "source": [
    "from statsmodels.discrete.discrete_model import Logit\n",
    "from sklearn.cluster import KMeans\n",
    "df = pd.read_csv('../hackerrank_data/shots.csv')\n",
    "\n",
    "df = df[((np.sqrt(df.shot_y**2 + df.shot_x**2)>=22) & (np.sqrt(df.shot_y**2 + df.shot_x**2)<25))]\n",
    "# X = df[['shooter_velocity_ft_sec', 'shooter_velocity_angle', 'dribbles_before', 'defender_distance', 'defender_angle', 'defender_velocity_ft_sec', 'defender_velocity_angle']]\n",
    "X = df[['shot_x', 'shot_y']]\n",
    "\n",
    "kmean5 = KMeans(n_clusters = 5, random_state = 2).fit_predict(X)\n",
    "\n",
    "fig = plt.figure(figsize=(18, 8))\n",
    "ax = fig.add_subplot(1,1,1)\n",
    "ax.scatter(df.shot_x, df.shot_y, c = kmean5)\n",
    "plt.show()\n",
    "\n",
    "X = pd.get_dummies(kmean5, drop_first=False)\n",
    "X['ones'] = 1\n",
    "\n",
    "df['three_pointer'] = 0\n",
    "df.ix[((np.sqrt(df.shot_y**2 + df.shot_x**2)>=23.75) | ((np.abs(df.shot_x)>=22) & (df.shot_y<(14-4-.75)))), 'three_pointer'] = 1 \n",
    "\n",
    "X = pd.concat([X,pd.DataFrame(df.three_pointer.values)], axis=1)\n",
    "X.drop(1, 1, inplace=True)\n",
    "\n",
    "# print kmean5[0:10]\n",
    "# print df\n",
    "# print pd.DataFrame(df.made.values)\n",
    "logit = Logit(pd.DataFrame(df.made.values), X).fit()\n",
    "print logit.summary()"
   ]
  },
  {
   "cell_type": "code",
   "execution_count": null,
   "metadata": {
    "collapsed": true
   },
   "outputs": [],
   "source": [
    "# do 4! pairwise t-tests of proportions to determine if there is signficant differences between these groups in terms of shooting percentage\n"
   ]
  },
  {
   "cell_type": "code",
   "execution_count": null,
   "metadata": {
    "collapsed": true
   },
   "outputs": [],
   "source": [
    "# bin_num = 30 \n",
    "# min_obs = 0\n",
    "# bin_num = 25\n",
    "# min_obs = 5\n",
    "\n",
    "# d_mean = stats.binned_statistic_2d(df.shot_x, df.shot_y, df.made, statistic='mean', bins=bin_num)\n",
    "# d_count = stats.binned_statistic_2d(df.shot_x, df.shot_y, df.made, statistic='count', bins=bin_num)\n",
    "# d = np.array([np.where(np.array(d_count[0])>min_obs, np.array(d_mean[0]), np.nan), np.array(d_mean[1]), np.array(d_mean[2])])\n",
    "\n",
    "# extent = [d[1][0], d[1][-1], d[2][0], d[2][-1]]\n",
    "# fig = plt.figure(figsize=(18,8))\n",
    "# ax = fig.add_subplot(1,1,1)\n",
    "# im = ax.imshow(d[0].T, cmap='YlOrRd', extent=extent, interpolation='nearest', origin='lower') # RdBu_r\n",
    "\n",
    "# cbar_ax = fig.add_axes([0.85, 0.65, 0.05, 0.2])\n",
    "# cb = plt.colorbar(im, cax=cbar_ax)\n",
    "# cb.set_label('shooting percentage')\n",
    "\n",
    "# plt.savefig('shooting_percentage.png')\n",
    "# plt.show()"
   ]
  },
  {
   "cell_type": "markdown",
   "metadata": {},
   "source": [
    "* Do some unsupervised learning action on these spots to see if there are some important differences between them.\n",
    "\n",
    "* often defenders play off a little bit the farther out shooters get...can this be exploited for gain? In other words, while these are lower percentage shots, maybe the extra sag increases the percentages enough. If the defense starts expanding to cover it, then a strategic response is moving the ball inside.\n",
    "    * estimate the effect of distance on shooting percentage---assuming a linear effect (?)---for the subsample of \"normal\" shots\n",
    "        * control for whether its a three point shot (defenses might behave differently in a non-linear way)\n",
    "    * estimate the effect of distance on shooting percentage\n",
    "    \n",
    "    \n",
    "* estimate the effect of distance from the basket on the distance to the shooter\n",
    "* estimate the effect of distance from the basket on shooting percentage\n",
    "* estimate the effect of distance to the shooter on shooting percentage\n",
    "\n",
    "\n",
    "\n",
    "What is the expected number of points from \"normal\" offensive sets (call this value x)? Is there a distance in the \"hyper\" range such that the expected number of points from a shot there is greater than x?\n",
    "\n",
    "- Show that, as expected, the probability of a make falls with distance from hoop, increases with distance from the defender and that the distance of a defender increases with the distance from the basket.\n",
    "- Make argument\n",
    "- What else would I need to know and/or do in order for the project to be complete"
   ]
  },
  {
   "cell_type": "markdown",
   "metadata": {},
   "source": [
    "An econometrician at UC Berkley (or San Diego) a decade and a half (or so) ago ... This type of anaylsis may be perceived as ridiculous in the eyes of NBA practiioners, but I think it may have statistical merit (but certainly would need further analysis). Spacing is a vital to succesfful modern NBA offenses. However, constraints to greater spacing are the dimensions of the court, the three-point line? (expected number of points when the ball is farther from the basket). Regarding the latter, the expected number of points are less because (1) the ball is actually shot from farther distances less, and (2) when the ball is shot, the probability it goes in is smaller. \n",
    "\n",
    "\n",
    "Shooting percentages from hyper-distance will go up as shooters diligently practice from that range. "
   ]
  },
  {
   "cell_type": "code",
   "execution_count": null,
   "metadata": {
    "collapsed": false
   },
   "outputs": [],
   "source": [
    "df = df[df.shot_y<=40]\n",
    "\n",
    "fig = plt.figure(figsize=(7.5,9))\n",
    "ax = fig.add_subplot(1,1,1)\n",
    "im = ax.hexbin(df.shot_x, df.shot_y, gridsize=25, cmap=CM.jet, bins=None)\n",
    "\n",
    "cbar_ax = fig.add_axes([0.85, 0.65, 0.05, 0.2])\n",
    "cb = plt.colorbar(im, cax=cbar_ax)\n",
    "cb.set_label('frequency')\n",
    "plt.show()"
   ]
  },
  {
   "cell_type": "code",
   "execution_count": null,
   "metadata": {
    "collapsed": false
   },
   "outputs": [],
   "source": [
    "df = df[df.shot_y<=40]\n",
    "\n",
    "fig = plt.figure(figsize=(7.5,9))\n",
    "ax = fig.add_subplot(1,1,1)\n",
    "im = ax.hexbin(df.shot_x, df.shot_y, C=df.made, gridsize=25, cmap=CM.jet, bins=None, reduce_C_function = np.mean)\n",
    "\n",
    "cbar_ax = fig.add_axes([0.85, 0.65, 0.05, 0.2])\n",
    "cb = plt.colorbar(im, cax=cbar_ax)\n",
    "cb.set_label('mean value')\n",
    "plt.show()"
   ]
  },
  {
   "cell_type": "code",
   "execution_count": null,
   "metadata": {
    "collapsed": true
   },
   "outputs": [],
   "source": [
    "\n",
    "\n",
    "df = df[df.shot_y<=40]\n",
    "\n",
    "fig = plt.figure(figsize=(7.5,9))\n",
    "ax = fig.add_subplot(1,1,1)\n",
    "num_arr = np.where(ax.hexbin(df.shot_x, df.shot_y, gridsize=25, cmap=CM.jet, bins=None).get_array()>=50, 1, 0)\n",
    "\n",
    "plt.cla()\n",
    "ax = fig.add_subplot(1,1,1)\n",
    "im = ax.hexbin(df.shot_x, df.shot_y, C=df.made, gridsize=25, cmap=CM.jet, bins=None, reduce_C_function = np.mean)\n",
    "\n",
    "cbar_ax = fig.add_axes([0.85, 0.65, 0.05, 0.2])\n",
    "cb = plt.colorbar(im, cax=cbar_ax)\n",
    "cb.set_label('mean value')\n",
    "plt.show()"
   ]
  },
  {
   "cell_type": "markdown",
   "metadata": {},
   "source": [
    "Initial model:\n",
    "* Features\n",
    "    * distance, angle from basket, the features already in the data set. \n",
    "* make sure to tune hyperparameters using CV, and then evaluate the models using test data\n",
    "\n",
    "\n",
    "How about the following:\n",
    "* Predict the probability of a shot being made or not. \n",
    "* Bootstrap the distribution of the expected values given these probabilities \n",
    "    * Bootstrap the probabilities, then, given the probability, draw a make or miss\n",
    "    * add the makes and create the distribution\n",
    "    * evaluate the actual sum of the makes given this distribution\n",
    "\n",
    "or\n",
    "\n",
    "* Predict whether a shot is made or not. \n",
    "* Bootstrap the distribution of the expected values given these probabilities \n",
    "    * Bootstrap each of the predictions\n",
    "    * add the makes and create the distribution\n",
    "    * evaluate the actual sum of the makes given this distribution\n",
    "\n",
    "* Plot the probabilities using a contour plot\n",
    "\n",
    "Problems:\n",
    "* What if the initial accuracy is poor? In other words, if the model is inherently bad, then the detection of the anomalies will not be very good either. \n",
    "    * Discuss why the prediction is not very good...what other variables would be nice to have?\n",
    "    \n",
    "What this tells us:\n",
    "* Gives insights into the importance of other variables. These include things such as\n",
    "    * Player idiosyncracies\n",
    "    * Defense idiosyncracies\n",
    "* How does it tell us anything?\n",
    "    * We are comparing against the average, essentially"
   ]
  },
  {
   "cell_type": "code",
   "execution_count": 1,
   "metadata": {
    "collapsed": true
   },
   "outputs": [],
   "source": [
    "import math\n",
    "import numpy as np\n",
    "import pandas as pd\n",
    "import matplotlib.pyplot as plt\n",
    "from scipy import stats\n",
    "from scipy.stats import percentileofscore\n",
    "from sklearn.grid_search import GridSearchCV\n",
    "from sklearn.metrics.scorer import make_scorer\n",
    "from sklearn.cross_validation import train_test_split\n",
    "from sklearn.ensemble import GradientBoostingClassifier\n",
    "from sklearn.linear_model import ElasticNet, Ridge, Lasso\n",
    "%matplotlib inline"
   ]
  },
  {
   "cell_type": "code",
   "execution_count": 24,
   "metadata": {
    "collapsed": false
   },
   "outputs": [
    {
     "name": "stdout",
     "output_type": "stream",
     "text": [
      "<class 'pandas.core.frame.DataFrame'>\n",
      "RangeIndex: 8896 entries, 0 to 8895\n",
      "Data columns (total 13 columns):\n",
      "shot_x                      8896 non-null float64\n",
      "shot_y                      8896 non-null float64\n",
      "shooter_velocity_ft_sec     8896 non-null float64\n",
      "shooter_velocity_angle      8896 non-null float64\n",
      "dribbles_before             8896 non-null float64\n",
      "made                        8896 non-null float64\n",
      "defender_distance           8896 non-null float64\n",
      "defender_angle              8896 non-null float64\n",
      "defender_velocity_ft_sec    8896 non-null float64\n",
      "defender_velocity_angle     8896 non-null float64\n",
      "three_pointer               8896 non-null int64\n",
      "degrees                     8896 non-null float64\n",
      "distance                    8896 non-null float64\n",
      "dtypes: float64(12), int64(1)\n",
      "memory usage: 903.6 KB\n",
      "None\n"
     ]
    }
   ],
   "source": [
    "df = pd.read_csv('../hackerrank_data/shots.csv')\n",
    "df = df[(np.sqrt(df.shot_y**2 + df.shot_x**2)<26.75)] # restrict data to \"normal\" shots (i.e., within 26'9'')\n",
    "\n",
    "column_names = df.columns\n",
    "df = pd.DataFrame(df.values, columns = column_names) # reset dataframe index\n",
    "\n",
    "\n",
    "#feature engineering, define feature and outcome matrix\n",
    "df['three_pointer'] = 0\n",
    "df.ix[(np.sqrt(df.shot_y**2 + df.shot_x**2)>=23.75) | ((np.abs(df.shot_x)>=22) & (df.shot_y<(14-4-.75))), 'three_pointer'] = 1\n",
    "\n",
    "df['degrees'] = np.degrees(np.arccos(((df.shot_x*0 + df.shot_y*1) / np.sqrt(df.shot_x**2 + df.shot_y**2))))\n",
    "df['distance'] = np.sqrt(df.shot_x**2 + df.shot_y**2)\n",
    "X = df.copy()\n",
    "\n",
    "X['shooter_velocity_angle'] = np.abs(X['shooter_velocity_angle'])\n",
    "X['defender_angle'] = np.abs(X['defender_angle'])\n",
    "X['defender_velocity_angle'] = np.abs(X['defender_velocity_angle'])\n",
    "\n",
    "X.drop(['shot_x', 'shot_y'], 1, inplace=True)\n",
    "\n",
    "y = X.pop('made')\n",
    "print df.info()"
   ]
  },
  {
   "cell_type": "code",
   "execution_count": null,
   "metadata": {
    "collapsed": true
   },
   "outputs": [],
   "source": [
    "# X_train, X_test, y_train, y_test = train_test_split(X, y, test_size=0.3, random_state = 0) #0 in honor of russ"
   ]
  },
  {
   "cell_type": "code",
   "execution_count": null,
   "metadata": {
    "collapsed": true
   },
   "outputs": [],
   "source": [
    "# def scorer(y_actual, y_pred):\n",
    "#     D = np.where((y_pred==0) & (y_actual==0), 1, 0)\n",
    "#     B = np.where((y_pred==0) & (y_actual==1), 1, 0)\n",
    "#     return np.sum(D)/float((np.sum(D)+np.sum(B)))"
   ]
  },
  {
   "cell_type": "code",
   "execution_count": null,
   "metadata": {
    "collapsed": false
   },
   "outputs": [],
   "source": [
    "# gbc = GradientBoostingClassifier()\n",
    "\n",
    "# score = make_scorer(scorer, greater_is_better=True)\n",
    "\n",
    "# param_dict = {'learning_rate': [0.005, 0.01, 0.015, 0.02, 0.05, 0.1],\n",
    "#     'n_estimators': [50, 75, 100, 500, 1000],\n",
    "#     'max_features': [3, 4, 5, 6]}\n",
    "# gsCV_gbc = GridSearchCV(gbc, param_dict, n_jobs = -1, scoring=score)\n",
    "# gsCV_gbc.fit(X, y)\n",
    "\n",
    "# print gsCV_gbc.best_params_\n",
    "# print gsCV_gbc.best_score_\n"
   ]
  },
  {
   "cell_type": "code",
   "execution_count": null,
   "metadata": {
    "collapsed": false
   },
   "outputs": [],
   "source": [
    "# from sklearn.metrics import accuracy_score\n",
    "# print accuracy_score(gsCV_gbc.predict(X), y)\n"
   ]
  },
  {
   "cell_type": "code",
   "execution_count": null,
   "metadata": {
    "collapsed": false
   },
   "outputs": [],
   "source": [
    "# lasso = Lasso(alpha = .00000001, normalize=True).fit(X, y)\n",
    "# print lasso.score(X, y)\n",
    "\n",
    "# ridge = Ridge(alpha = 0.5, normalize=True).fit(X, y)\n",
    "# # 0.0980383699763\n",
    "# print ridge.score(X, y)"
   ]
  },
  {
   "cell_type": "code",
   "execution_count": 25,
   "metadata": {
    "collapsed": false
   },
   "outputs": [
    {
     "name": "stdout",
     "output_type": "stream",
     "text": [
      "{'alpha': 1e-06, 'l1_ratio': 0}\n",
      "0.0723189862283\n"
     ]
    }
   ],
   "source": [
    "en = ElasticNet(normalize=True)\n",
    "\n",
    "# score = make_scorer(scorer, greater_is_better=True)\n",
    "\n",
    "param_dict = {'alpha': [0.0000000001, 0.0000005, 0.0000075, 0.000001, 0.000005, 0.0001, 0.001, 0.01, 0.1, .25, .5, .75, 1],\n",
    "    'l1_ratio': [0, 0.0002, .45, .475, .5, .525, .55, .95, 1]}\n",
    "gsCV_en = GridSearchCV(en, param_dict, n_jobs = -1)\n",
    "gsCV_en.fit(X, y)\n",
    "\n",
    "print gsCV_en.best_params_\n",
    "print gsCV_en.best_score_\n"
   ]
  },
  {
   "cell_type": "code",
   "execution_count": 26,
   "metadata": {
    "collapsed": true
   },
   "outputs": [],
   "source": [
    "def boots_r(pred_prob, actual):\n",
    "    sample_size = 1000\n",
    "\n",
    "    boot_shooting_perc_dist = []\n",
    "    for i in xrange(sample_size):\n",
    "        boot_perc_sample = [pred_prob[ind] for ind in np.random.choice(len(pred_prob), len(pred_prob), replace=True)]\n",
    "        samp_mean = np.mean(np.where(np.random.uniform(0, 1, len(pred_prob))<=boot_perc_sample, 1, 0))\n",
    "        boot_shooting_perc_dist.append(samp_mean) \n",
    "    return percentileofscore(boot_shooting_perc_dist, actual, kind='weak')"
   ]
  },
  {
   "cell_type": "code",
   "execution_count": 31,
   "metadata": {
    "collapsed": false
   },
   "outputs": [
    {
     "name": "stdout",
     "output_type": "stream",
     "text": [
      "[[ nan  nan  nan  nan  nan  nan  nan  nan  nan  nan  nan  nan  nan  nan\n",
      "   nan  nan  nan  nan  nan  nan  nan  nan  nan  nan  nan  nan  nan  nan\n",
      "   nan  nan]\n",
      " [ nan  nan  nan  nan   0.   0.   0.   0.  nan  nan  nan  nan  nan  nan\n",
      "   nan  nan  nan  nan  nan  nan  nan  nan  nan  nan  nan  nan  nan  nan\n",
      "   nan  nan]\n",
      " [ nan  nan  nan  nan  nan  nan  nan  nan  nan  nan  nan  nan  nan  nan\n",
      "   nan  nan  nan   0.   0.  nan  nan  nan  nan  nan  nan  nan  nan  nan\n",
      "   nan  nan]\n",
      " [ nan  nan  nan  nan  nan  nan  nan  nan  nan  nan  nan  nan  nan  nan\n",
      "   nan  nan  nan  nan  nan  nan   0.  nan  nan  nan  nan  nan  nan  nan\n",
      "   nan  nan]\n",
      " [ nan  nan  nan  nan  nan  nan  nan  nan  nan  nan  nan  nan  nan  nan\n",
      "   nan  nan  nan  nan  nan  nan  nan   0.   0.  nan  nan  nan  nan  nan\n",
      "   nan  nan]\n",
      " [ nan  nan  nan  nan  nan  nan  nan  nan  nan  nan  nan  nan  nan  nan\n",
      "   nan  nan  nan  nan  nan  nan  nan  nan  nan   0.  nan  nan  nan  nan\n",
      "   nan  nan]\n",
      " [ nan  nan  nan  nan  nan  nan  nan  nan  nan  nan  nan  nan  nan  nan\n",
      "   nan  nan  nan  nan  nan  nan  nan  nan  nan   0.   0.   0.  nan  nan\n",
      "   nan  nan]\n",
      " [ nan  nan  nan  nan  nan  nan  nan  nan  nan  nan  nan  nan  nan  nan\n",
      "   nan  nan  nan  nan  nan  nan  nan  nan  nan  nan  nan   0.   0.  nan\n",
      "   nan  nan]\n",
      " [ nan  nan  nan  nan  nan  nan  nan  nan  nan  nan  nan  nan  nan  nan\n",
      "   nan  nan  nan  nan  nan  nan  nan  nan  nan  nan  nan   0.   0.  nan\n",
      "   nan  nan]\n",
      " [ nan  nan  nan  nan  nan  nan  nan  nan  nan  nan  nan  nan  nan  nan\n",
      "   nan  nan  nan  nan  nan  nan  nan  nan  nan  nan  nan  nan   0.   0.\n",
      "   nan  nan]\n",
      " [ nan  nan  nan  nan  nan   0.  nan   0.  nan  nan  nan  nan  nan  nan\n",
      "   nan  nan  nan  nan  nan  nan  nan  nan  nan  nan  nan  nan  nan   0.\n",
      "   nan  nan]\n",
      " [ nan  nan  nan  nan  nan   0.   0.   0.   0.  nan   0.  nan  nan  nan\n",
      "   nan  nan  nan  nan  nan  nan  nan  nan  nan  nan  nan  nan  nan   0.\n",
      "    0.  nan]\n",
      " [ nan  nan  nan  nan   0.   1.   0.   0.   0.   0.  nan   0.  nan  nan\n",
      "   nan  nan  nan  nan  nan  nan  nan  nan  nan  nan  nan  nan  nan   0.\n",
      "    0.  nan]\n",
      " [ nan  nan  nan  nan   0.   0.   1.   0.   0.   0.  -1.   0.  nan  nan\n",
      "   nan  nan  nan  nan  nan  nan  nan  nan  nan  nan  nan  nan  nan  nan\n",
      "   nan  nan]\n",
      " [ nan  nan  nan  nan   0.   0.   0.   0.   0.   1.   0.   0.   0.  nan\n",
      "   nan  nan  nan  nan  nan  nan  nan  nan  nan  nan  nan  nan  nan  nan\n",
      "    0.  nan]\n",
      " [ nan  nan  nan  nan   0.   0.   1.   0.   0.   0.  -1.   0.   0.  -1.\n",
      "   nan  nan  nan  nan  nan  nan  nan  nan  nan  nan  nan  nan  nan  nan\n",
      "    0.  nan]\n",
      " [ nan  nan  nan  nan   1.   0.   0.   0.   1.   0.  -1.   0.  nan  nan\n",
      "   nan  nan  nan  nan  nan  nan  nan  nan  nan  nan  nan  nan  nan  nan\n",
      "   nan  nan]\n",
      " [ nan  nan  nan  nan  nan   0.   0.   0.   0.   0.  nan  nan  nan  nan\n",
      "   nan  nan  nan  nan  nan  nan  nan  nan  nan  nan  nan  nan  nan   0.\n",
      "   nan  nan]\n",
      " [ nan  nan  nan  nan  nan   0.   0.   0.  nan  nan  nan  nan  nan  nan\n",
      "   nan  nan  nan  nan  nan  nan  nan  nan  nan  nan  nan  nan  nan  nan\n",
      "    0.  nan]\n",
      " [ nan  nan  nan  nan  nan  nan  nan  nan  nan  nan  nan  nan  nan  nan\n",
      "   nan  nan  nan  nan  nan  nan  nan  nan  nan  nan  nan  nan  nan   0.\n",
      "   nan  nan]\n",
      " [ nan  nan  nan  nan  nan  nan  nan  nan  nan  nan  nan  nan  nan  nan\n",
      "   nan  nan  nan  nan  nan  nan  nan  nan  nan  nan  nan  nan  nan   0.\n",
      "   nan  nan]\n",
      " [ nan  nan  nan  nan  nan  nan  nan  nan  nan  nan  nan  nan  nan  nan\n",
      "   nan  nan  nan  nan  nan  nan  nan  nan  nan  nan  nan  nan   1.  nan\n",
      "   nan  nan]\n",
      " [ nan  nan  nan  nan  nan  nan  nan  nan  nan  nan  nan  nan  nan  nan\n",
      "   nan  nan  nan  nan  nan  nan  nan  nan  nan  nan   1.  nan  nan  nan\n",
      "   nan  nan]\n",
      " [ nan  nan  nan  nan  nan  nan  nan  nan  nan  nan  nan  nan  nan  nan\n",
      "   nan  nan  nan  nan  nan  nan  nan  nan  nan   0.   0.  nan  nan  nan\n",
      "   nan  nan]\n",
      " [ nan  nan  nan  nan  nan  nan  nan  nan  nan  nan  nan  nan  nan  nan\n",
      "   nan  nan  nan  nan  nan  nan  nan  nan  nan   0.  nan  nan  nan  nan\n",
      "   nan  nan]\n",
      " [ nan  nan  nan  nan  nan  nan  nan  nan  nan  nan  nan  nan  nan  nan\n",
      "   nan  nan  nan  nan  nan  nan   0.   0.  -1.  nan  nan  nan  nan  nan\n",
      "   nan  nan]\n",
      " [ nan  nan  nan  nan  nan  nan  nan  nan  nan  nan  nan  nan  nan  nan\n",
      "   nan  nan  nan  nan  nan   0.   0.  nan  nan  nan  nan  nan  nan  nan\n",
      "   nan  nan]\n",
      " [ nan  nan  nan  nan  nan   0.   0.  nan  nan  nan  nan  nan  nan  nan\n",
      "   nan  nan  nan  nan  nan  nan  nan  nan  nan  nan  nan  nan  nan  nan\n",
      "   nan  nan]\n",
      " [ nan  nan  nan  nan   0.   0.   0.   1.   0.  nan  nan  nan  nan  nan\n",
      "   nan  nan  nan  nan  nan  nan  nan  nan  nan  nan  nan  nan  nan  nan\n",
      "   nan  nan]\n",
      " [ nan  nan  nan  nan  nan  nan  nan  nan  nan  nan  nan  nan  nan  nan\n",
      "   nan  nan  nan  nan  nan  nan  nan  nan  nan  nan  nan  nan  nan  nan\n",
      "   nan  nan]]\n"
     ]
    }
   ],
   "source": [
    "bin_num = 30\n",
    "min_obs = 15\n",
    "\n",
    "var = gsCV_en.predict(X)\n",
    "\n",
    "d = stats.binned_statistic_2d(df.shot_x, df.shot_y, var, statistic='mean', bins=bin_num)\n",
    "statistic, xedges, yedges, binnumber = d\n",
    "\n",
    "binnumber = pd.Series(binnumber)\n",
    "\n",
    "bin_max_num = binnumber.max()\n",
    "\n",
    "stat = []\n",
    "min_obs = 20\n",
    "for i in xrange(len(xedges)-1):\n",
    "    i_row = []\n",
    "    for j in xrange(len(yedges)-1):\n",
    "        bin = df[((df.shot_x>=xedges[i]) & (df.shot_x<xedges[i+1])) & ((df.shot_y>=yedges[j]) & (df.shot_y<yedges[j+1]))]\n",
    "        l = len(bin)\n",
    "        if l<min_obs:\n",
    "            i_row.append(np.nan)\n",
    "        else:\n",
    "            b = boots_r(var[bin.index.values], bin.made.mean())\n",
    "            if b>=95:\n",
    "                i_row.append(1)\n",
    "            elif b<=5:\n",
    "                i_row.append(-1)\n",
    "            else:\n",
    "                i_row.append(0)\n",
    "    stat.append(i_row)\n",
    "hey = np.array(stat)"
   ]
  },
  {
   "cell_type": "code",
   "execution_count": 103,
   "metadata": {
    "collapsed": true
   },
   "outputs": [],
   "source": [
    "from matplotlib.patches import Circle, Rectangle, Arc\n",
    "\n",
    "def draw_court(ax=None, color='black', lw=2, outer_lines=False):\n",
    "    # If an axes object isn't provided to plot onto, just get current one\n",
    "    if ax is None:\n",
    "        ax = plt.gca()\n",
    "\n",
    "    # Create the various parts of an NBA basketball court\n",
    "\n",
    "    # Create the basketball hoop\n",
    "    # Diameter of a hoop is 18\" so it has a radius of 9\", which is a value\n",
    "    # 7.5 in our coordinate system\n",
    "#     hoop = Circle((0, 0), radius=7.5, linewidth=lw, color=color, fill=False)\n",
    "    hoop = Circle((0, 0), radius=.75, linewidth=lw, color=color, fill=False)\n",
    "\n",
    "    # Create backboard\n",
    "    backboard = Rectangle((-3, -.75), 6, -0.125, linewidth=lw, color=color)\n",
    "\n",
    "    # The paint\n",
    "    # Create the outer box 0f the paint, width=16ft, height=19ft\n",
    "    outer_box = Rectangle((-8, -4), 16, 19, linewidth=lw, color=color,\n",
    "                          fill=False)\n",
    "    # Create the inner box of the paint, widt=12ft, height=19ft\n",
    "    inner_box = Rectangle((-6, -4), 12, 19, linewidth=lw, color=color,\n",
    "                          fill=False)\n",
    "\n",
    "    # Create free throw top arc\n",
    "    top_free_throw = Arc((0, 14.75), 12, 12, theta1=0, theta2=180,\n",
    "                         linewidth=lw, color=color, fill=False)\n",
    "    # Create free throw bottom arc\n",
    "    bottom_free_throw = Arc((0, 14.75), 12, 12, theta1=180, theta2=0,\n",
    "                            linewidth=lw, color=color, linestyle='dashed')\n",
    "    # Restricted Zone, it is an arc with 4ft radius from center of the hoop\n",
    "    restricted = Arc((0, 0), 8, 8, theta1=0, theta2=180, linewidth=lw,\n",
    "                     color=color)\n",
    "\n",
    "    # Three point line\n",
    "    # Create the side 3pt lines, they are 14ft long before they begin to arc\n",
    "    corner_three_a = Rectangle((-22, -4), 0, 13.75, linewidth=lw,\n",
    "                               color=color)\n",
    "    corner_three_b = Rectangle((22, -4), 0, 13.75, linewidth=lw, color=color)\n",
    "    # 3pt arc - center of arc will be the hoop, arc is 23'9\" away from hoop\n",
    "    # I just played around with the theta values until they lined up with the \n",
    "    # threes\n",
    "    three_arc = Arc((0, 0), 48, 48, theta1=23.75, theta2=156.25, linewidth=lw,\n",
    "                    color=color)\n",
    "\n",
    "    # Center Court\n",
    "    center_outer_arc = Arc((0, 422.5), 120, 120, theta1=180, theta2=0,\n",
    "                           linewidth=lw, color=color)\n",
    "    center_inner_arc = Arc((0, 422.5), 40, 40, theta1=180, theta2=0,\n",
    "                           linewidth=lw, color=color)\n",
    "\n",
    "    # List of the court elements to be plotted onto the axes\n",
    "    court_elements = [hoop, backboard, outer_box, inner_box, top_free_throw,\n",
    "                      bottom_free_throw, restricted, corner_three_a,\n",
    "                      corner_three_b, three_arc, center_outer_arc,\n",
    "                      center_inner_arc]\n",
    "\n",
    "    if outer_lines:\n",
    "        # Draw the half court line, baseline and side out bound lines\n",
    "        outer_lines = Rectangle((-25, -4), 50, 47, linewidth=lw,\n",
    "                                color=color, fill=False)\n",
    "        court_elements.append(outer_lines)\n",
    "\n",
    "    # Add the court elements onto the axes\n",
    "    for element in court_elements:\n",
    "        ax.add_patch(element)\n",
    "\n",
    "    return ax"
   ]
  },
  {
   "cell_type": "code",
   "execution_count": 104,
   "metadata": {
    "collapsed": false
   },
   "outputs": [
    {
     "data": {
      "image/png": "[encoded data removed]",
      "text/plain": [
       "<matplotlib.figure.Figure at 0x118514150>"
      ]
     },
     "metadata": {},
     "output_type": "display_data"
    }
   ],
   "source": [
    "extent = [d[1][0], d[1][-1], d[2][0], d[2][-1]]\n",
    "fig = plt.figure(figsize=(18,8))\n",
    "ax = fig.add_subplot(1,1,1)\n",
    "draw_court(outer_lines=True)\n",
    "\n",
    "im = ax.imshow(hey.T, cmap='YlOrRd', extent=extent, interpolation='nearest', origin='lower') #  \n",
    "\n",
    "cbar_ax = fig.add_axes([0.85, 0.65, 0.05, 0.2])\n",
    "cb = plt.colorbar(im, cax=cbar_ax)\n",
    "cb.set_label('shooting percentage')\n",
    "\n",
    "plt.savefig('shooting_percentage.png')\n",
    "plt.show()"
   ]
  },
  {
   "cell_type": "code",
   "execution_count": null,
   "metadata": {
    "collapsed": true
   },
   "outputs": [],
   "source": [
    "def boots(pred, actual):\n",
    "    print pred\n",
    "    print actual\n",
    "    sample_size = 1000\n",
    "    boot_shooting_perc_dist = []\n",
    "    for i in xrange(sample_size):\n",
    "        samp_mean = np.mean([pred[ind] for ind in np.random.choice(len(pred), len(pred), replace=True)])\n",
    "        boot_shooting_perc_dist.append(samp_mean) \n",
    "    return percentileofscore(boot_shooting_perc_dist, actual, kind='weak')    "
   ]
  },
  {
   "cell_type": "code",
   "execution_count": null,
   "metadata": {
    "collapsed": false
   },
   "outputs": [],
   "source": [
    "bin_num = 5\n",
    "min_obs = 20\n",
    "\n",
    "var = gsCV_gbc.predict(X)\n",
    "\n",
    "d = stats.binned_statistic_2d(df.shot_x, df.shot_y, var, statistic='mean', bins=bin_num)\n",
    "# d = stats.binned_statistic_2d(df.shot_x, df.shot_y, var, statistic='count', bins=bin_num)\n",
    "statistic, xedges, yedges, binnumber = d\n",
    "\n",
    "binnumber = pd.Series(binnumber)\n",
    "\n",
    "bin_max_num = binnumber.max()\n",
    "\n",
    "stat = []\n",
    "min_obs = 20\n",
    "for i in xrange(len(xedges)-1):\n",
    "    i_row = []\n",
    "    for j in xrange(len(yedges)-1):\n",
    "        bin = df[((df.shot_x>=xedges[i]) & (df.shot_x<xedges[i+1])) & ((df.shot_y>=yedges[j]) & (df.shot_y<yedges[j+1]))]\n",
    "        l = len(bin)\n",
    "        if l<min_obs:\n",
    "            i_row.append(np.nan)\n",
    "        else:\n",
    "            i_row.append(boots(var[bin.index.values], bin.made.mean()))\n",
    "    print i_row\n",
    "    stat.append(i_row)\n",
    "    break\n",
    "# print statistic\n",
    "# print np.array(stat)\n",
    "\n",
    "# d_count = stats.binned_statistic_2d(df.shot_x, df.shot_y, var, statistic='count', bins=bin_num)\n",
    "# d = np.array([np.where(np.array(d_count[0])>min_obs, np.array(d_mean[0]), np.nan), np.array(d_mean[1]), np.array(d_mean[2])])\n",
    "\n",
    "# # d_mean = stats.binned_statistic_2d(df.shot_x, df.shot_y, var, statistic='mean', bins=bin_num)\n",
    "# # d_count = stats.binned_statistic_2d(df.shot_x, df.shot_y, var, statistic='count', bins=bin_num)\n",
    "# # d = np.array([np.where(np.array(d_count[0])>min_obs, np.array(d_mean[0]), np.nan), np.array(d_mean[1]), np.array(d_mean[2])])\n",
    "\n",
    "# hey = d[0]\n",
    "# hey[0,0] = 500\n",
    "\n",
    "# extent = [d[1][0], d[1][-1], d[2][0], d[2][-1]]\n",
    "# fig = plt.figure(figsize=(18,8))\n",
    "# ax = fig.add_subplot(1,1,1)\n",
    "# im = ax.imshow(d[0].T, cmap='YlOrRd', extent=extent, interpolation='nearest', origin='lower') # RdBu_r\n",
    "# # im = ax.imshow(hey.T, cmap='YlOrRd', extent=extent, interpolation='nearest', origin='lower') # RdBu_r\n",
    "\n",
    "# cbar_ax = fig.add_axes([0.85, 0.65, 0.05, 0.2])\n",
    "# cb = plt.colorbar(im, cax=cbar_ax)\n",
    "# cb.set_label('shooting percentage')\n",
    "\n",
    "# plt.savefig('shooting_percentage.png')\n",
    "# plt.show()"
   ]
  },
  {
   "cell_type": "markdown",
   "metadata": {},
   "source": [
    "One approach is understanding things the directly affect shooting. General average good stuff. How this could help strategic decisions is obvious: on defensive do this and don't do this, etc. But idiosyncracies can go undetected. Another approach is identifying abnormalities relative to the model. In other words, does the model systematically underperform in some respects. If these reasons can be identified, then ...\n",
    "\n",
    "What explains this abnormalities? In other words, relative to the model, why is shooting either better or worse than the model would predict in these locations.\n",
    "\n",
    "* Perhaps are simply occurring by random chance\n",
    "* Might be explained by deficincies in the model\n",
    "    * for example, the model does not capture well probability a layup will go in (since the effect is linear?)\n",
    "* Might be expalined by some abnormality outside of the feature space\n",
    "    * a player is really good from a certain spot\n",
    "    * defenses have vulernabilities in certain spots\n",
    "    * our offense gets...\n",
    "    \n",
    "try this again with other parameter values"
   ]
  },
  {
   "cell_type": "code",
   "execution_count": null,
   "metadata": {
    "collapsed": true
   },
   "outputs": [],
   "source": []
  }
 ],
 "metadata": {
  "anaconda-cloud": {},
  "kernelspec": {
   "display_name": "Python [Root]",
   "language": "python",
   "name": "Python [Root]"
  },
  "language_info": {
   "codemirror_mode": {
    "name": "ipython",
    "version": 2
   },
   "file_extension": ".py",
   "mimetype": "text/x-python",
   "name": "python",
   "nbconvert_exporter": "python",
   "pygments_lexer": "ipython2",
   "version": "2.7.12"
  }
 },
 "nbformat": 4,
 "nbformat_minor": 0
}
